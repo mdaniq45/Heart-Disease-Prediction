{
 "cells": [
  {
   "cell_type": "code",
   "execution_count": 1,
   "id": "c658ae29-b812-4266-a441-fe57b98c8368",
   "metadata": {},
   "outputs": [
    {
     "name": "stdout",
     "output_type": "stream",
     "text": [
      "hartdesies\n"
     ]
    },
    {
     "name": "stderr",
     "output_type": "stream",
     "text": [
      "2024-12-08 19:27:26.726 \n",
      "  \u001b[33m\u001b[1mWarning:\u001b[0m to view this Streamlit app on a browser, run it with the following\n",
      "  command:\n",
      "\n",
      "    streamlit run C:\\Users\\hi\\anaconda3\\Lib\\site-packages\\ipykernel_launcher.py [ARGUMENTS]\n",
      "2024-12-08 19:27:26.726 Session state does not function when running a script without `streamlit run`\n"
     ]
    }
   ],
   "source": [
    "\n",
    "import streamlit as st\n",
    "import pandas as pd\n",
    "import numpy as np\n",
    "from sklearn.ensemble import RandomForestClassifier\n",
    "\n",
    "# Page Title\n",
    "st.title(\"Heart Disease Prediction App\")\n",
    "\n",
    "# Sidebar for Input\n",
    "st.sidebar.header(\"Input Features\")\n",
    "\n",
    "# Function to take user input\n",
    "def user_input_features():\n",
    "    Age = st.sidebar.slider(\"Age\", 18, 100, 50)\n",
    "    Sex = st.sidebar.selectbox(\"Sex\", (\"Male\", \"Female\"))\n",
    "    ChestPainType = st.sidebar.selectbox(\n",
    "        \"Chest Pain Type\", \n",
    "        (\"Typical Angina\", \"Atypical Angina\", \"Non-Anginal Pain\", \"Asymptomatic\")\n",
    "    )\n",
    "    RestingBP = st.sidebar.slider(\"Resting Blood Pressure\", 80, 200, 120)\n",
    "    Cholesterol = st.sidebar.slider(\"Cholesterol\", 100, 400, 200)\n",
    "    FastingBS = st.sidebar.selectbox(\"Fasting Blood Sugar > 120 mg/dl\", (\"Yes\", \"No\"))\n",
    "    RestingECG = st.sidebar.selectbox(\n",
    "        \"Resting Electrocardiographic Results\", \n",
    "        (\"Normal\", \"ST-T Wave Abnormality\", \"Left Ventricular Hypertrophy\")\n",
    "    )\n",
    "    MaxHR = st.sidebar.slider(\"Maximum Heart Rate Achieved\", 60, 220, 150)\n",
    "    ExerciseAngina = st.sidebar.selectbox(\"Exercise-Induced Angina\", (\"Yes\", \"No\"))\n",
    "    Oldpeak = st.sidebar.slider(\"ST Depression Induced by Exercise\", 0.0, 6.0, 1.0, step=0.1)\n",
    "    ST_Slope = st.sidebar.selectbox(\n",
    "        \"ST Slope\", \n",
    "        (\"Upsloping\", \"Flat\", \"Downsloping\")\n",
    "    )\n",
    "    \n",
    "    data = {\n",
    "        \"Age\": Age,\n",
    "        \"Sex\": 1 if Sex == \"Male\" else 0,\n",
    "        \"ChestPainType\": ChestPainType,\n",
    "        \"RestingBP\": RestingBP,\n",
    "        \"Cholesterol\": Cholesterol,\n",
    "        \"FastingBS\": 1 if FastingBS == \"Yes\" else 0,\n",
    "        \"RestingECG\": RestingECG,\n",
    "        \"MaxHR\": MaxHR,\n",
    "        \"ExerciseAngina\": 1 if ExerciseAngina == \"Yes\" else 0,\n",
    "        \"Oldpeak\": Oldpeak,\n",
    "        \"ST_Slope\": ST_Slope,\n",
    "    }\n",
    "    return pd.DataFrame(data, index=[0])\n",
    "\n",
    "# Collect input\n",
    "input_df = user_input_features()\n",
    "\n",
    "# Display user input\n",
    "st.subheader(\"User Input Features\")\n",
    "st.write(input_df)\n",
    "\n",
    "# Dummy model for demonstration\n",
    "# Replace with a trained model\n",
    "model = RandomForestClassifier()\n",
    "# Assuming the model is pre-trained, you'd load it here using joblib/pickle\n",
    "\n",
    "# Generate dummy prediction for demonstration\n",
    "# Replace with actual prediction logic\n",
    "prediction = np.random.choice([0, 1])  # 0: No Heart Disease, 1: Heart Disease\n",
    "\n",
    "# Display Prediction\n",
    "st.subheader(\"Prediction\")\n",
    "st.write(\"Heart Disease\" if prediction == 1 else \"No Heart Disease\")\n"
   ]
  },
  {
   "cell_type": "code",
   "execution_count": 3,
   "id": "58cdb94c-45d4-40b2-b97b-7b8168fd910e",
   "metadata": {},
   "outputs": [],
   "source": [
    "import os"
   ]
  },
  {
   "cell_type": "code",
   "execution_count": null,
   "id": "d80a2ed5-acbe-4fd7-b657-2ed489f142ab",
   "metadata": {},
   "outputs": [],
   "source": []
  }
 ],
 "metadata": {
  "kernelspec": {
   "display_name": "Python 3 (ipykernel)",
   "language": "python",
   "name": "python3"
  },
  "language_info": {
   "codemirror_mode": {
    "name": "ipython",
    "version": 3
   },
   "file_extension": ".py",
   "mimetype": "text/x-python",
   "name": "python",
   "nbconvert_exporter": "python",
   "pygments_lexer": "ipython3",
   "version": "3.12.7"
  }
 },
 "nbformat": 4,
 "nbformat_minor": 5
}
